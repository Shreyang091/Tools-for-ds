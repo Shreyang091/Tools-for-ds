{
 "cells": [
  {
   "cell_type": "markdown",
   "id": "358ebcae-aee7-4ca5-927e-fad2ddc2f272",
   "metadata": {},
   "source": [
    "# markdown"
   ]
  },
  {
   "cell_type": "markdown",
   "id": "49121b3a-6ad3-47e0-a223-087dc8a6f543",
   "metadata": {},
   "source": [
    "## Data Science Languages\n",
    "- Python\n",
    "- R\n",
    "- Julia\n",
    "- SQL\n",
    "- Scala\n",
    "- Java\n",
    "- MATLAB\n"
   ]
  },
  {
   "cell_type": "markdown",
   "id": "ec57c14b-ee9e-4359-85a3-f291aee185bf",
   "metadata": {},
   "source": [
    "## Data Science Libraries\r\n",
    "- Pandas\r\n",
    "- NumPy\r\n",
    "- Matplotlib\r\n",
    "- Seaborn\r\n",
    "- SciPy\r\n",
    "- Scikit-learn\r\n",
    "- TensorFlow\r\n",
    "- Keras\r\n",
    "- ggplot2\r\n",
    "- dplyr\r\n"
   ]
  },
  {
   "cell_type": "markdown",
   "id": "ed3ce0ec-4775-41ad-8a31-73e86dab1244",
   "metadata": {},
   "source": [
    "## Data Science Tools\n",
    "| Tool           | Description                               |\n",
    "|----------------|-------------------------------------------|\n",
    "| Jupyter Notebook | Interactive computing environment      |\n",
    "| RStudio          | Integrated development environment for R|\n",
    "| Apache Spark     | Unified analytics engine                |\n",
    "| TensorFlow       | Machine learning framework              |\n",
    "| Hadoop           | Distributed storage and processing      |\n"
   ]
  },
  {
   "cell_type": "code",
   "execution_count": 2,
   "id": "71f5df28-b904-449d-838a-d6b3d50b3c21",
   "metadata": {},
   "outputs": [
    {
     "data": {
      "text/plain": [
       "(50, 15)"
      ]
     },
     "execution_count": 2,
     "metadata": {},
     "output_type": "execute_result"
    }
   ],
   "source": [
    "# Multiply and add numbers\r\n",
    "a = 5\r\n",
    "b = 10\r\n",
    "multiplication = a * b\r\n",
    "addition = a + b\r\n",
    "multiplication, addition\r\n"
   ]
  },
  {
   "cell_type": "code",
   "execution_count": 3,
   "id": "15356220-c1c0-4130-bf2e-831d3af39898",
   "metadata": {},
   "outputs": [
    {
     "data": {
      "text/plain": [
       "2.5"
      ]
     },
     "execution_count": 3,
     "metadata": {},
     "output_type": "execute_result"
    }
   ],
   "source": [
    "# Convert minutes to hours\r\n",
    "minutes = 150\r\n",
    "hours = minutes / 60\r\n",
    "hours\r\n"
   ]
  },
  {
   "cell_type": "markdown",
   "id": "c42d5819-6329-4c30-9ba2-38cfe89590c7",
   "metadata": {},
   "source": [
    "## Objectives\n",
    "- Understand basic data science concepts\n",
    "- Learn how to use Jupyter Notebooks\n",
    "- Explore various data science languages and libraries\n",
    "- Perform basic arithmetic operations in Python\n",
    "- Convert units of measurement\n"
   ]
  },
  {
   "cell_type": "markdown",
   "id": "0fc12f66-665a-49f0-9660-b1fabb2de643",
   "metadata": {},
   "source": [
    "## Author\n",
    "John Doe\n"
   ]
  }
 ],
 "metadata": {
  "kernelspec": {
   "display_name": "Python 3 (ipykernel)",
   "language": "python",
   "name": "python3"
  },
  "language_info": {
   "codemirror_mode": {
    "name": "ipython",
    "version": 3
   },
   "file_extension": ".py",
   "mimetype": "text/x-python",
   "name": "python",
   "nbconvert_exporter": "python",
   "pygments_lexer": "ipython3",
   "version": "3.11.5"
  }
 },
 "nbformat": 4,
 "nbformat_minor": 5
}
